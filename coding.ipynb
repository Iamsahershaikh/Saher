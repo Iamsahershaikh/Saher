{
 "cells": [
  {
   "cell_type": "code",
   "execution_count": 1,
   "id": "93952e63-5613-4b64-af40-4f784042c126",
   "metadata": {},
   "outputs": [
    {
     "data": {
      "text/plain": [
       "3"
      ]
     },
     "execution_count": 1,
     "metadata": {},
     "output_type": "execute_result"
    }
   ],
   "source": [
    "1+2"
   ]
  },
  {
   "cell_type": "code",
   "execution_count": 4,
   "id": "0401d624-55a4-4690-8b62-4717e5e03bec",
   "metadata": {},
   "outputs": [
    {
     "data": {
      "text/plain": [
       "11"
      ]
     },
     "execution_count": 4,
     "metadata": {},
     "output_type": "execute_result"
    }
   ],
   "source": [
    "5+6\n",
    "#to run any cell in jupyter notebook you can use shorthand - ctrl+Enter or you can use shift+Enter"
   ]
  },
  {
   "cell_type": "markdown",
   "id": "fef76bd9-0e6d-493d-b0d6-b1c00e79b647",
   "metadata": {},
   "source": [
    "this is my first class for python basic"
   ]
  },
  {
   "cell_type": "raw",
   "id": "3913c485-a257-4bd1-ab1e-a5f42eaf7af8",
   "metadata": {},
   "source": [
    "asdfasfafdas fd asdfa fda \n"
   ]
  },
  {
   "cell_type": "code",
   "execution_count": null,
   "id": "ff139051-bcb3-4497-b9ec-f305c7062b19",
   "metadata": {},
   "outputs": [],
   "source": []
  },
  {
   "cell_type": "code",
   "execution_count": null,
   "id": "f01716ac-83a7-407c-8929-f33502658d68",
   "metadata": {},
   "outputs": [],
   "source": []
  }
 ],
 "metadata": {
  "kernelspec": {
   "display_name": "Python 3 (ipykernel)",
   "language": "python",
   "name": "python3"
  },
  "language_info": {
   "codemirror_mode": {
    "name": "ipython",
    "version": 3
   },
   "file_extension": ".py",
   "mimetype": "text/x-python",
   "name": "python",
   "nbconvert_exporter": "python",
   "pygments_lexer": "ipython3",
   "version": "3.10.8"
  }
 },
 "nbformat": 4,
 "nbformat_minor": 5
}
